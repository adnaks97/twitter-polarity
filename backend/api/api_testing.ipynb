{
 "cells": [
  {
   "cell_type": "code",
   "execution_count": 1,
   "metadata": {},
   "outputs": [],
   "source": [
    "import json\n",
    "import tweepy\n",
    "import os\n",
    "import datetime\n",
    "from collections import defaultdict"
   ]
  },
  {
   "cell_type": "code",
   "execution_count": 69,
   "metadata": {},
   "outputs": [],
   "source": [
    "class TwitterAPI():\n",
    "    def __init__(self, credentials_file_path = os.path.join(os.getcwd(),'credentials/twitter_credentials.json')):\n",
    "        \n",
    "        credentials = self.getCredentials(credentials_file_path)\n",
    "        auth = tweepy.OAuthHandler(credentials['CONSUMER_KEY'], credentials['CONSUMER_SECRET'])\n",
    "        auth.set_access_token(credentials['ACCESS_TOKEN'], credentials['ACCESS_TOKEN_SECRET'])\n",
    "        self.api = tweepy.API(auth, wait_on_rate_limit=True)\n",
    "\n",
    "    def getCredentials(self, credentials_file_path):\n",
    "        with open(credentials_file_path) as json_file:\n",
    "            credentials = json.load(json_file)\n",
    "        return credentials\n",
    "    \n",
    "    def getTweetsByCount(self, query, count, loc=None, lang='en', result_type='mixed'):\n",
    "        _max_queries = 500  # arbitrarily chosen value\n",
    "        \n",
    "        # If Country(loc) given, search on basis of country\n",
    "        if(loc):\n",
    "            placeId = self.getPlaceIdByCountry(loc)\n",
    "            query = '{} place:{}'.format(query, placeId)\n",
    "\n",
    "        tweets = tweet_batch = self.api.search(q=query, count=count, lang=lang, result_type=result_type, tweet_mode='extended')\n",
    "        ct = 1\n",
    "        while len(tweets) < count and ct < _max_queries:\n",
    "            tweet_batch = self.api.search(q=query, \n",
    "                                     count=count - len(tweets),\n",
    "                                     max_id=tweet_batch.max_id, lang=lang, result_type=result_type, tweet_mode='extended')\n",
    "            tweets.extend(tweet_batch)\n",
    "            ct += 1\n",
    "        return tweets\n",
    "    \n",
    "    def getTweets7DaysByCount(self, query, count, loc=None, lang='en', result_type='mixed'):\n",
    "\n",
    "        listOfDates = self.getListOfLast7Dates(datetime.date.today())\n",
    "        \n",
    "        # If Country(loc) given, search on basis of country\n",
    "        if(loc):\n",
    "            placeId = self.getPlaceIdByCountry(loc)\n",
    "            query = '{} place:{}'.format(query, placeId)\n",
    "        \n",
    "        d = defaultdict(list)\n",
    "        for dateIdx in range(len(listOfDates)-1):\n",
    "            tweets_cursor = self.getCursor(query=query, dates=(listOfDates[dateIdx], listOfDates[dateIdx+1]), count=count, lang=lang, result_type=result_type)\n",
    "            for tweet in tweets_cursor:\n",
    "                d[datetime.datetime.strptime(listOfDates[dateIdx], '%Y-%m-%d')].append((tweet.id, tweet.full_text))\n",
    "\n",
    "        return d\n",
    "\n",
    "        \n",
    "    def getCursor(self, query, dates, count, lang, result_type):\n",
    "        cursor = tweepy.Cursor(\n",
    "            self.api.search,\n",
    "            q = query,\n",
    "            since = dates[0],\n",
    "            until = dates[1],\n",
    "            lang = lang,\n",
    "            result_type = result_type,\n",
    "            tweet_mode ='extended')\n",
    "        return cursor.items(count)\n",
    "        \n",
    "        \n",
    "    def getListOfLast7Dates(self, end_date):\n",
    "        start_date = end_date - datetime.timedelta(days=6)\n",
    "        delta = datetime.timedelta(days=1)\n",
    "        listOfDates = []\n",
    "        while start_date <= end_date+datetime.timedelta(days=1):\n",
    "            listOfDates.append(start_date.strftime('%Y-%m-%d'))\n",
    "            start_date += delta\n",
    "        return listOfDates\n",
    "        \n",
    "\n",
    "    def getFeatures(self, tweets, feature_list):\n",
    "        features = []\n",
    "        for tweet in tweets:\n",
    "            content = {}\n",
    "            for feature in feature_list:\n",
    "                content[feature] = tweet._json[feature]\n",
    "            features.append(content)\n",
    "        return features\n",
    "    \n",
    "    def getPlaceIdByCountry(self, loc, granularity=\"country\"):\n",
    "        places = self.api.geo_search(query=loc, granularity=\"country\")\n",
    "        return places[0].id"
   ]
  },
  {
   "cell_type": "markdown",
   "metadata": {},
   "source": [
    "### Testing by counts"
   ]
  },
  {
   "cell_type": "code",
   "execution_count": 21,
   "metadata": {},
   "outputs": [
    {
     "data": {
      "text/plain": [
       "datetime.datetime(2020, 11, 15, 0, 0)"
      ]
     },
     "execution_count": 21,
     "metadata": {},
     "output_type": "execute_result"
    }
   ],
   "source": [
    "datetime.datetime.strptime('2020-11-15', \"%Y-%m-%d\")"
   ]
  },
  {
   "cell_type": "code",
   "execution_count": 8,
   "metadata": {},
   "outputs": [],
   "source": [
    "api = TwitterAPI()"
   ]
  },
  {
   "cell_type": "code",
   "execution_count": 95,
   "metadata": {},
   "outputs": [],
   "source": [
    "tweets = api.getTweetsByCount('happy', 2)"
   ]
  },
  {
   "cell_type": "code",
   "execution_count": 97,
   "metadata": {},
   "outputs": [
    {
     "data": {
      "text/plain": [
       "2"
      ]
     },
     "execution_count": 97,
     "metadata": {},
     "output_type": "execute_result"
    }
   ],
   "source": [
    "len(tweets)"
   ]
  },
  {
   "cell_type": "markdown",
   "metadata": {},
   "source": [
    "### Testing by dates"
   ]
  },
  {
   "cell_type": "code",
   "execution_count": 62,
   "metadata": {},
   "outputs": [],
   "source": [
    "api = TwitterAPI()"
   ]
  },
  {
   "cell_type": "code",
   "execution_count": 63,
   "metadata": {},
   "outputs": [
    {
     "name": "stdout",
     "output_type": "stream",
     "text": [
      "CPU times: user 1.21 s, sys: 147 ms, total: 1.35 s\n",
      "Wall time: 32.7 s\n"
     ]
    }
   ],
   "source": [
    "%%time\n",
    "tweets_dict = api.getTweets7DaysByCount('covid', 100)"
   ]
  }
 ],
 "metadata": {
  "kernelspec": {
   "display_name": "Python 3",
   "language": "python",
   "name": "python3"
  },
  "language_info": {
   "codemirror_mode": {
    "name": "ipython",
    "version": 3
   },
   "file_extension": ".py",
   "mimetype": "text/x-python",
   "name": "python",
   "nbconvert_exporter": "python",
   "pygments_lexer": "ipython3",
   "version": "3.7.6"
  }
 },
 "nbformat": 4,
 "nbformat_minor": 4
}
